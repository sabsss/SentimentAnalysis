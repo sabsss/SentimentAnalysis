{
 "cells": [
  {
   "cell_type": "markdown",
   "id": "eceabb38",
   "metadata": {},
   "source": [
    "# Sentiment Analysis\n",
    "### This notebook includes an implementation of a sentiment analysis. The code mainly uses pandas for preprocessing, sci-kit for the machine learning process."
   ]
  },
  {
   "cell_type": "markdown",
   "id": "2bf1fd59",
   "metadata": {},
   "source": [
    "### Libraries"
   ]
  },
  {
   "cell_type": "code",
   "execution_count": 1,
   "id": "40ae5722",
   "metadata": {},
   "outputs": [],
   "source": [
    "import pandas as pd\n",
    "import numpy as np\n",
    "import re \n",
    "import csv\n",
    "\n",
    "from sklearn.feature_extraction.text import TfidfVectorizer\n",
    "from sklearn.svm import LinearSVC\n",
    "from sklearn.metrics import classification_report\n",
    "from sklearn.model_selection import train_test_split"
   ]
  },
  {
   "cell_type": "markdown",
   "id": "42a44a54",
   "metadata": {},
   "source": [
    "### Preprocessing."
   ]
  },
  {
   "cell_type": "code",
   "execution_count": 2,
   "id": "a59a8f79",
   "metadata": {},
   "outputs": [],
   "source": [
    "train = pd.read_csv('train.csv')"
   ]
  },
  {
   "cell_type": "code",
   "execution_count": 3,
   "id": "3a87d3b1",
   "metadata": {},
   "outputs": [
    {
     "data": {
      "text/html": [
       "<div>\n",
       "<style scoped>\n",
       "    .dataframe tbody tr th:only-of-type {\n",
       "        vertical-align: middle;\n",
       "    }\n",
       "\n",
       "    .dataframe tbody tr th {\n",
       "        vertical-align: top;\n",
       "    }\n",
       "\n",
       "    .dataframe thead th {\n",
       "        text-align: right;\n",
       "    }\n",
       "</style>\n",
       "<table border=\"1\" class=\"dataframe\">\n",
       "  <thead>\n",
       "    <tr style=\"text-align: right;\">\n",
       "      <th></th>\n",
       "      <th>text</th>\n",
       "      <th>emotion</th>\n",
       "    </tr>\n",
       "  </thead>\n",
       "  <tbody>\n",
       "    <tr>\n",
       "      <th>0</th>\n",
       "      <td>Yeah for coupons!   Found this place randomly ...</td>\n",
       "      <td>neutral</td>\n",
       "    </tr>\n",
       "    <tr>\n",
       "      <th>1</th>\n",
       "      <td>i still love to feel a gentle breeze and hear ...</td>\n",
       "      <td>happiness</td>\n",
       "    </tr>\n",
       "    <tr>\n",
       "      <th>2</th>\n",
       "      <td>Normal, fama devido ao programa de tv. A sobre...</td>\n",
       "      <td>neutral</td>\n",
       "    </tr>\n",
       "    <tr>\n",
       "      <th>3</th>\n",
       "      <td>im feeling a little less jaded</td>\n",
       "      <td>sadness</td>\n",
       "    </tr>\n",
       "    <tr>\n",
       "      <th>4</th>\n",
       "      <td>i have never shaken the feeling of ferocious p...</td>\n",
       "      <td>hate</td>\n",
       "    </tr>\n",
       "    <tr>\n",
       "      <th>...</th>\n",
       "      <td>...</td>\n",
       "      <td>...</td>\n",
       "    </tr>\n",
       "    <tr>\n",
       "      <th>7995</th>\n",
       "      <td>i still feel a little weird telling people abo...</td>\n",
       "      <td>worry</td>\n",
       "    </tr>\n",
       "    <tr>\n",
       "      <th>7996</th>\n",
       "      <td>i am feeling rather overwhelmed with all that ...</td>\n",
       "      <td>surprise</td>\n",
       "    </tr>\n",
       "    <tr>\n",
       "      <th>7997</th>\n",
       "      <td>i feel shocked his words very pure very self</td>\n",
       "      <td>surprise</td>\n",
       "    </tr>\n",
       "    <tr>\n",
       "      <th>7998</th>\n",
       "      <td>Service was sub par, really ... It was so disa...</td>\n",
       "      <td>neutral</td>\n",
       "    </tr>\n",
       "    <tr>\n",
       "      <th>7999</th>\n",
       "      <td>i feel like we re all just irritated with each...</td>\n",
       "      <td>hate</td>\n",
       "    </tr>\n",
       "  </tbody>\n",
       "</table>\n",
       "<p>8000 rows × 2 columns</p>\n",
       "</div>"
      ],
      "text/plain": [
       "                                                   text    emotion\n",
       "0     Yeah for coupons!   Found this place randomly ...    neutral\n",
       "1     i still love to feel a gentle breeze and hear ...  happiness\n",
       "2     Normal, fama devido ao programa de tv. A sobre...    neutral\n",
       "3                        im feeling a little less jaded    sadness\n",
       "4     i have never shaken the feeling of ferocious p...       hate\n",
       "...                                                 ...        ...\n",
       "7995  i still feel a little weird telling people abo...      worry\n",
       "7996  i am feeling rather overwhelmed with all that ...   surprise\n",
       "7997       i feel shocked his words very pure very self   surprise\n",
       "7998  Service was sub par, really ... It was so disa...    neutral\n",
       "7999  i feel like we re all just irritated with each...       hate\n",
       "\n",
       "[8000 rows x 2 columns]"
      ]
     },
     "execution_count": 3,
     "metadata": {},
     "output_type": "execute_result"
    }
   ],
   "source": [
    "train"
   ]
  },
  {
   "cell_type": "code",
   "execution_count": 4,
   "id": "c11919f4",
   "metadata": {},
   "outputs": [
    {
     "name": "stdout",
     "output_type": "stream",
     "text": [
      "<class 'pandas.core.frame.DataFrame'>\n",
      "RangeIndex: 8000 entries, 0 to 7999\n",
      "Data columns (total 2 columns):\n",
      " #   Column   Non-Null Count  Dtype \n",
      "---  ------   --------------  ----- \n",
      " 0   text     8000 non-null   object\n",
      " 1   emotion  8000 non-null   object\n",
      "dtypes: object(2)\n",
      "memory usage: 125.1+ KB\n"
     ]
    }
   ],
   "source": [
    "train.info()"
   ]
  },
  {
   "cell_type": "code",
   "execution_count": 5,
   "id": "fad5eb1c",
   "metadata": {},
   "outputs": [
    {
     "data": {
      "text/plain": [
       "text       0\n",
       "emotion    0\n",
       "dtype: int64"
      ]
     },
     "execution_count": 5,
     "metadata": {},
     "output_type": "execute_result"
    }
   ],
   "source": [
    "train.isnull().sum()"
   ]
  },
  {
   "cell_type": "code",
   "execution_count": 6,
   "id": "76375ac0",
   "metadata": {},
   "outputs": [],
   "source": [
    "#Cleaning data from special characters\n",
    "def Data_Cleaning(train):\n",
    "        train['text'] = train['text'].apply(lambda x: x.replace('!',''))\n",
    "        train['text'] = train['text'].apply(lambda x: x.replace('$',''))\n",
    "        train['text'] = train['text'].apply(lambda x: x.replace('.*',''))\n",
    "        train['text'] = train['text'].apply(lambda x: x.replace('/',''))\n",
    "        train['text'] = train['text'].apply(lambda x: x.replace('?',''))\n",
    "        train['text'] = train['text'].apply(lambda x: x.replace(';',''))\n",
    "        train['text'] = train['text'].apply(lambda x: x.replace('(',''))\n",
    "        train['text'] = train['text'].apply(lambda x: x.replace(')',''))\n",
    "        train['text'] = train['text'].apply(lambda x: x.replace(':',''))\n",
    "        train['text'] = train['text'].apply(lambda x: x.replace(',',''))\n",
    "        "
   ]
  },
  {
   "cell_type": "code",
   "execution_count": 7,
   "id": "09df3ba9",
   "metadata": {},
   "outputs": [],
   "source": [
    "Data_Cleaning(train)"
   ]
  },
  {
   "cell_type": "code",
   "execution_count": 8,
   "id": "3c7b9f7a",
   "metadata": {},
   "outputs": [],
   "source": [
    "#vectorization\n",
    "vectorization = TfidfVectorizer()\n",
    "X = train['text']\n",
    "Y = train['emotion']"
   ]
  },
  {
   "cell_type": "code",
   "execution_count": 9,
   "id": "d208f770",
   "metadata": {},
   "outputs": [],
   "source": [
    "X = vectorization.fit_transform(X)"
   ]
  },
  {
   "cell_type": "code",
   "execution_count": 10,
   "id": "269631e0",
   "metadata": {},
   "outputs": [],
   "source": [
    "X_train, X_test, Y_train, Y_test = train_test_split(X,Y, test_size = 0.2, random_state = 0)"
   ]
  },
  {
   "cell_type": "markdown",
   "id": "130bb983",
   "metadata": {},
   "source": [
    "### Training"
   ]
  },
  {
   "cell_type": "code",
   "execution_count": 11,
   "id": "ac2d0f32",
   "metadata": {},
   "outputs": [
    {
     "data": {
      "text/plain": [
       "LinearSVC()"
      ]
     },
     "execution_count": 11,
     "metadata": {},
     "output_type": "execute_result"
    }
   ],
   "source": [
    "classif = LinearSVC()\n",
    "classif.fit(X_train, Y_train)"
   ]
  },
  {
   "cell_type": "markdown",
   "id": "322f45ea",
   "metadata": {},
   "source": [
    "### Testing"
   ]
  },
  {
   "cell_type": "code",
   "execution_count": 12,
   "id": "9c729c09",
   "metadata": {},
   "outputs": [],
   "source": [
    "Y_prediction = classif.predict(X_test)"
   ]
  },
  {
   "cell_type": "markdown",
   "id": "22f22575",
   "metadata": {},
   "source": [
    "### Txt And CSV File Creation"
   ]
  },
  {
   "cell_type": "code",
   "execution_count": 13,
   "id": "628581b6",
   "metadata": {},
   "outputs": [],
   "source": [
    "Y_predictiontxt = open('prediction.txt','w')"
   ]
  },
  {
   "cell_type": "code",
   "execution_count": 14,
   "id": "b920c289",
   "metadata": {},
   "outputs": [],
   "source": [
    "for text in Y_prediction:\n",
    "    Y_predictiontxt.write(str(text)+'\\n')"
   ]
  },
  {
   "cell_type": "code",
   "execution_count": 15,
   "id": "8fd1f188",
   "metadata": {},
   "outputs": [],
   "source": [
    "Y_predictiontxt.close()"
   ]
  },
  {
   "cell_type": "code",
   "execution_count": 16,
   "id": "591845ff",
   "metadata": {},
   "outputs": [],
   "source": [
    "Y_testcsv = open('Y_test.csv','w')"
   ]
  },
  {
   "cell_type": "code",
   "execution_count": 17,
   "id": "d1484695",
   "metadata": {},
   "outputs": [],
   "source": [
    "writer = csv.writer(Y_testcsv)"
   ]
  },
  {
   "cell_type": "code",
   "execution_count": 18,
   "id": "d3c0099d",
   "metadata": {},
   "outputs": [
    {
     "data": {
      "text/plain": [
       "11415"
      ]
     },
     "execution_count": 18,
     "metadata": {},
     "output_type": "execute_result"
    }
   ],
   "source": [
    "writer.writerow(Y_test)"
   ]
  },
  {
   "cell_type": "code",
   "execution_count": 19,
   "id": "68fe9681",
   "metadata": {},
   "outputs": [],
   "source": [
    "Y_testcsv.close()"
   ]
  },
  {
   "cell_type": "markdown",
   "id": "cde38cd0",
   "metadata": {},
   "source": [
    "### Results"
   ]
  },
  {
   "cell_type": "code",
   "execution_count": 20,
   "id": "71213bc3",
   "metadata": {},
   "outputs": [
    {
     "name": "stdout",
     "output_type": "stream",
     "text": [
      "              precision    recall  f1-score   support\n",
      "\n",
      "         fun       0.89      0.80      0.84       235\n",
      "   happiness       0.89      0.94      0.91       299\n",
      "        hate       0.87      0.85      0.86       222\n",
      "     neutral       0.96      1.00      0.98       254\n",
      "     sadness       0.88      0.83      0.86       236\n",
      "    surprise       0.79      0.92      0.85       110\n",
      "       worry       0.84      0.83      0.84       244\n",
      "\n",
      "    accuracy                           0.88      1600\n",
      "   macro avg       0.87      0.88      0.88      1600\n",
      "weighted avg       0.88      0.88      0.88      1600\n",
      "\n"
     ]
    }
   ],
   "source": [
    "print(classification_report(Y_test, Y_prediction))"
   ]
  },
  {
   "cell_type": "code",
   "execution_count": 21,
   "id": "8a1a762b",
   "metadata": {},
   "outputs": [],
   "source": [
    "x = 'I am afraid I will be late to class'\n",
    "vector1 = vectorization.transform([x])"
   ]
  },
  {
   "cell_type": "code",
   "execution_count": 22,
   "id": "cb46a947",
   "metadata": {},
   "outputs": [
    {
     "data": {
      "text/plain": [
       "array(['worry'], dtype=object)"
      ]
     },
     "execution_count": 22,
     "metadata": {},
     "output_type": "execute_result"
    }
   ],
   "source": [
    "classif.predict(vector1)"
   ]
  }
 ],
 "metadata": {
  "kernelspec": {
   "display_name": "Python 3",
   "language": "python",
   "name": "python3"
  },
  "language_info": {
   "codemirror_mode": {
    "name": "ipython",
    "version": 3
   },
   "file_extension": ".py",
   "mimetype": "text/x-python",
   "name": "python",
   "nbconvert_exporter": "python",
   "pygments_lexer": "ipython3",
   "version": "3.8.8"
  }
 },
 "nbformat": 4,
 "nbformat_minor": 5
}
